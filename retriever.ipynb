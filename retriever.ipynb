{
 "cells": [
  {
   "cell_type": "markdown",
   "metadata": {},
   "source": [
    "## Chain And Retriever With Langchain"
   ]
  },
  {
   "cell_type": "code",
   "execution_count": 1,
   "metadata": {},
   "outputs": [
    {
     "data": {
      "text/plain": [
       "[Document(page_content='PMID: 28106826 PMCID: PMC5297828 DOI: 10.3390/ijms18010197 \\nAbstract \\nColorectal cancer (CRC) is the third most common cancer and the fourth most common cause of \\ncancer-related death. Most cases of CRC are detected in Western countries, with its incidence \\nincreasing year by year. The probability of suffering from colorectal cancer is about 4%-5% and the \\nrisk for developing CRC is associated with personal features or habits such as age, chronic disease \\nhistory and lifestyle. In this context, the gut microbiota has a relevant role, and dysbiosis situations \\ncan induce colonic carcinogenesis through a chronic inflammation mechanism. Some of the bacteria \\nresponsible for this multiphase process include Fusobacterium spp, Bacteroides fragilis and \\nenteropathogenic Escherichia coli. CRC is caused by mutations that target oncogenes, tumour \\nsuppressor genes and genes related to DNA repair mechanisms. Depending on the origin of the \\nmutation, colorectal carcinomas can be classified as sporadic (70%); inherited (5%) and familial \\n(25%). The pathogenic mechanisms leading to this situation can be included in three types, namely \\nchromosomal instability (CIN), microsatellite instability (MSI) and CpG island methylator phenotype \\n(CIMP). Within these types of CRC, common mutations, chromosomal changes and translocations \\nhave been reported to affect important pathways (WNT, MAPK/PI3K, TGF-β, TP53), and mutations; \\nin particular, genes such as c-MYC, KRAS, BRAF, PIK3CA, PTEN, SMAD2 and SMAD4 can be \\nused as predictive markers for patient outcome. In addition to gene mutations, alterations in ncRNAs, \\nsuch as lncRNA or miRNA, can also contribute to different steps of the carcinogenesis process and \\nhave a predictive value when used as biomarkers. In consequence, different panels of genes and \\nmRNA are being developed to improve prognosis and treatment selection. The choice of first-line \\ntreatment in CRC follows a multimodal approach based on tumour-related characteristics and usually \\ncomprises surgical resection followed by chemotherapy combined with monoclonal antibodies or \\nproteins against vascular endothelial growth factor (VEGF) and epidermal growth receptor (EGFR). \\nBesides traditional chemotherapy, alternative therapies (such as agarose tumour macrobeads, anti-\\ninflammatory drugs, probiotics, and gold-based drugs) are currently being studied to increase \\ntreatment effectiveness and reduce side effects. \\n \\nKeywords: agarose macrobeads; anti-inflammatories; biomarkers; colorectal carcinoma; functional \\nfood; gene-expression profiling; metal-based drugs; microbiota; ncRNA; probiotics. ', metadata={'source': 'Colon.pdf', 'page': 0})]"
      ]
     },
     "execution_count": 1,
     "metadata": {},
     "output_type": "execute_result"
    }
   ],
   "source": [
    "from langchain_community.document_loaders import PyPDFLoader\n",
    "loader = PyPDFLoader(\"Colon.pdf\")\n",
    "docs = loader.load()\n",
    "docs"
   ]
  },
  {
   "cell_type": "code",
   "execution_count": 2,
   "metadata": {},
   "outputs": [
    {
     "data": {
      "text/plain": [
       "[Document(page_content='PMID: 28106826 PMCID: PMC5297828 DOI: 10.3390/ijms18010197 \\nAbstract \\nColorectal cancer (CRC) is the third most common cancer and the fourth most common cause of \\ncancer-related death. Most cases of CRC are detected in Western countries, with its incidence \\nincreasing year by year. The probability of suffering from colorectal cancer is about 4%-5% and the \\nrisk for developing CRC is associated with personal features or habits such as age, chronic disease \\nhistory and lifestyle. In this context, the gut microbiota has a relevant role, and dysbiosis situations \\ncan induce colonic carcinogenesis through a chronic inflammation mechanism. Some of the bacteria \\nresponsible for this multiphase process include Fusobacterium spp, Bacteroides fragilis and \\nenteropathogenic Escherichia coli. CRC is caused by mutations that target oncogenes, tumour \\nsuppressor genes and genes related to DNA repair mechanisms. Depending on the origin of the', metadata={'source': 'Colon.pdf', 'page': 0}),\n",
       " Document(page_content='mutation, colorectal carcinomas can be classified as sporadic (70%); inherited (5%) and familial \\n(25%). The pathogenic mechanisms leading to this situation can be included in three types, namely \\nchromosomal instability (CIN), microsatellite instability (MSI) and CpG island methylator phenotype \\n(CIMP). Within these types of CRC, common mutations, chromosomal changes and translocations \\nhave been reported to affect important pathways (WNT, MAPK/PI3K, TGF-β, TP53), and mutations; \\nin particular, genes such as c-MYC, KRAS, BRAF, PIK3CA, PTEN, SMAD2 and SMAD4 can be \\nused as predictive markers for patient outcome. In addition to gene mutations, alterations in ncRNAs, \\nsuch as lncRNA or miRNA, can also contribute to different steps of the carcinogenesis process and \\nhave a predictive value when used as biomarkers. In consequence, different panels of genes and \\nmRNA are being developed to improve prognosis and treatment selection. The choice of first-line', metadata={'source': 'Colon.pdf', 'page': 0}),\n",
       " Document(page_content='treatment in CRC follows a multimodal approach based on tumour-related characteristics and usually \\ncomprises surgical resection followed by chemotherapy combined with monoclonal antibodies or \\nproteins against vascular endothelial growth factor (VEGF) and epidermal growth receptor (EGFR). \\nBesides traditional chemotherapy, alternative therapies (such as agarose tumour macrobeads, anti-\\ninflammatory drugs, probiotics, and gold-based drugs) are currently being studied to increase \\ntreatment effectiveness and reduce side effects. \\n \\nKeywords: agarose macrobeads; anti-inflammatories; biomarkers; colorectal carcinoma; functional \\nfood; gene-expression profiling; metal-based drugs; microbiota; ncRNA; probiotics.', metadata={'source': 'Colon.pdf', 'page': 0})]"
      ]
     },
     "execution_count": 2,
     "metadata": {},
     "output_type": "execute_result"
    }
   ],
   "source": [
    "from langchain.text_splitter import RecursiveCharacterTextSplitter\n",
    "text_splitter = RecursiveCharacterTextSplitter(chunk_size=1000, chunk_overlap=20)\n",
    "text_splitter.split_documents(docs)[:5]"
   ]
  },
  {
   "cell_type": "code",
   "execution_count": 3,
   "metadata": {},
   "outputs": [
    {
     "data": {
      "text/plain": [
       "[Document(page_content='PMID: 28106826 PMCID: PMC5297828 DOI: 10.3390/ijms18010197 \\nAbstract \\nColorectal cancer (CRC) is the third most common cancer and the fourth most common cause of \\ncancer-related death. Most cases of CRC are detected in Western countries, with its incidence \\nincreasing year by year. The probability of suffering from colorectal cancer is about 4%-5% and the \\nrisk for developing CRC is associated with personal features or habits such as age, chronic disease \\nhistory and lifestyle. In this context, the gut microbiota has a relevant role, and dysbiosis situations \\ncan induce colonic carcinogenesis through a chronic inflammation mechanism. Some of the bacteria \\nresponsible for this multiphase process include Fusobacterium spp, Bacteroides fragilis and \\nenteropathogenic Escherichia coli. CRC is caused by mutations that target oncogenes, tumour \\nsuppressor genes and genes related to DNA repair mechanisms. Depending on the origin of the', metadata={'source': 'Colon.pdf', 'page': 0}),\n",
       " Document(page_content='mutation, colorectal carcinomas can be classified as sporadic (70%); inherited (5%) and familial \\n(25%). The pathogenic mechanisms leading to this situation can be included in three types, namely \\nchromosomal instability (CIN), microsatellite instability (MSI) and CpG island methylator phenotype \\n(CIMP). Within these types of CRC, common mutations, chromosomal changes and translocations \\nhave been reported to affect important pathways (WNT, MAPK/PI3K, TGF-β, TP53), and mutations; \\nin particular, genes such as c-MYC, KRAS, BRAF, PIK3CA, PTEN, SMAD2 and SMAD4 can be \\nused as predictive markers for patient outcome. In addition to gene mutations, alterations in ncRNAs, \\nsuch as lncRNA or miRNA, can also contribute to different steps of the carcinogenesis process and \\nhave a predictive value when used as biomarkers. In consequence, different panels of genes and \\nmRNA are being developed to improve prognosis and treatment selection. The choice of first-line', metadata={'source': 'Colon.pdf', 'page': 0}),\n",
       " Document(page_content='treatment in CRC follows a multimodal approach based on tumour-related characteristics and usually \\ncomprises surgical resection followed by chemotherapy combined with monoclonal antibodies or \\nproteins against vascular endothelial growth factor (VEGF) and epidermal growth receptor (EGFR). \\nBesides traditional chemotherapy, alternative therapies (such as agarose tumour macrobeads, anti-\\ninflammatory drugs, probiotics, and gold-based drugs) are currently being studied to increase \\ntreatment effectiveness and reduce side effects. \\n \\nKeywords: agarose macrobeads; anti-inflammatories; biomarkers; colorectal carcinoma; functional \\nfood; gene-expression profiling; metal-based drugs; microbiota; ncRNA; probiotics.', metadata={'source': 'Colon.pdf', 'page': 0})]"
      ]
     },
     "execution_count": 3,
     "metadata": {},
     "output_type": "execute_result"
    }
   ],
   "source": [
    "documents=text_splitter.split_documents(docs)\n",
    "documents"
   ]
  },
  {
   "cell_type": "code",
   "execution_count": 4,
   "metadata": {},
   "outputs": [
    {
     "name": "stderr",
     "output_type": "stream",
     "text": [
      "d:\\Langchain\\env\\Lib\\site-packages\\tqdm\\auto.py:21: TqdmWarning: IProgress not found. Please update jupyter and ipywidgets. See https://ipywidgets.readthedocs.io/en/stable/user_install.html\n",
      "  from .autonotebook import tqdm as notebook_tqdm\n"
     ]
    }
   ],
   "source": [
    "# from langchain_community.embeddings import OpenAIEmbeddings\n",
    "# from langchain_community.embeddings import OllamaEmbeddings\n",
    "from langchain_community.embeddings import HuggingFaceEmbeddings\n",
    "embedding_model = HuggingFaceEmbeddings(model_name=\"sentence-transformers/all-MiniLM-L6-v2\")\n",
    "from langchain_community.vectorstores import FAISS\n",
    "\n",
    "db=FAISS.from_documents(documents[:30],embedding_model)"
   ]
  },
  {
   "cell_type": "code",
   "execution_count": 5,
   "metadata": {},
   "outputs": [
    {
     "data": {
      "text/plain": [
       "<langchain_community.vectorstores.faiss.FAISS at 0x20dbef8fbd0>"
      ]
     },
     "execution_count": 5,
     "metadata": {},
     "output_type": "execute_result"
    }
   ],
   "source": [
    "db"
   ]
  },
  {
   "cell_type": "code",
   "execution_count": 6,
   "metadata": {},
   "outputs": [
    {
     "data": {
      "text/plain": [
       "'treatment in CRC follows a multimodal approach based on tumour-related characteristics and usually \\ncomprises surgical resection followed by chemotherapy combined with monoclonal antibodies or \\nproteins against vascular endothelial growth factor (VEGF) and epidermal growth receptor (EGFR). \\nBesides traditional chemotherapy, alternative therapies (such as agarose tumour macrobeads, anti-\\ninflammatory drugs, probiotics, and gold-based drugs) are currently being studied to increase \\ntreatment effectiveness and reduce side effects. \\n \\nKeywords: agarose macrobeads; anti-inflammatories; biomarkers; colorectal carcinoma; functional \\nfood; gene-expression profiling; metal-based drugs; microbiota; ncRNA; probiotics.'"
      ]
     },
     "execution_count": 6,
     "metadata": {},
     "output_type": "execute_result"
    }
   ],
   "source": [
    "query=\"The choice of first-line treatment in CRC follows\"\n",
    "result=db.similarity_search(query)\n",
    "result[0].page_content"
   ]
  },
  {
   "cell_type": "code",
   "execution_count": 7,
   "metadata": {},
   "outputs": [
    {
     "data": {
      "text/plain": [
       "Ollama(model='gemma3:1b')"
      ]
     },
     "execution_count": 7,
     "metadata": {},
     "output_type": "execute_result"
    }
   ],
   "source": [
    "from langchain_community.llms import Ollama\n",
    "## Load Ollama gemma3:1b LLM model\n",
    "llm=Ollama(model=\"gemma3:1b\")\n",
    "llm"
   ]
  },
  {
   "cell_type": "code",
   "execution_count": 8,
   "metadata": {},
   "outputs": [],
   "source": [
    "## Design ChatPrompt Template\n",
    "from langchain_core.prompts import ChatPromptTemplate\n",
    "prompt = ChatPromptTemplate.from_template(\"\"\"\n",
    "Answer the following question based only on the provided context. \n",
    "Think step by step before providing a detailed answer. \n",
    "I will rate you 5 out of 5 if user finds the answer helpful. \n",
    "<context>\n",
    "{context}\n",
    "</context>\n",
    "Question: {input}\"\"\")"
   ]
  },
  {
   "cell_type": "code",
   "execution_count": null,
   "metadata": {},
   "outputs": [],
   "source": [
    "## Create Stuff Document Chain\n",
    "\n",
    "from langchain.chains.combine_documents import create_stuff_documents_chain\n",
    "document_chain = create_stuff_documents_chain(llm,prompt)"
   ]
  },
  {
   "cell_type": "code",
   "execution_count": 10,
   "metadata": {},
   "outputs": [
    {
     "data": {
      "text/plain": [
       "VectorStoreRetriever(tags=['FAISS', 'HuggingFaceEmbeddings'], vectorstore=<langchain_community.vectorstores.faiss.FAISS object at 0x0000020DBEF8FBD0>)"
      ]
     },
     "execution_count": 10,
     "metadata": {},
     "output_type": "execute_result"
    }
   ],
   "source": [
    "retriever=db.as_retriever()\n",
    "retriever"
   ]
  },
  {
   "cell_type": "code",
   "execution_count": 11,
   "metadata": {},
   "outputs": [],
   "source": [
    "from langchain.chains import create_retrieval_chain\n",
    "retrieval_chain=create_retrieval_chain(retriever,document_chain)"
   ]
  },
  {
   "cell_type": "code",
   "execution_count": 12,
   "metadata": {},
   "outputs": [],
   "source": [
    "response=retrieval_chain.invoke({\"input\":\"Which type of Cancer is discussed in the document?\"})"
   ]
  },
  {
   "cell_type": "code",
   "execution_count": 13,
   "metadata": {},
   "outputs": [
    {
     "data": {
      "text/plain": [
       "'According to the document, colorectal cancer is discussed.'"
      ]
     },
     "execution_count": 13,
     "metadata": {},
     "output_type": "execute_result"
    }
   ],
   "source": [
    "response['answer']"
   ]
  }
 ],
 "metadata": {
  "kernelspec": {
   "display_name": "env",
   "language": "python",
   "name": "python3"
  },
  "language_info": {
   "codemirror_mode": {
    "name": "ipython",
    "version": 3
   },
   "file_extension": ".py",
   "mimetype": "text/x-python",
   "name": "python",
   "nbconvert_exporter": "python",
   "pygments_lexer": "ipython3",
   "version": "3.11.5"
  }
 },
 "nbformat": 4,
 "nbformat_minor": 2
}
